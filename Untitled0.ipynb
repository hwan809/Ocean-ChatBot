{
  "cells": [
    {
      "cell_type": "markdown",
      "metadata": {
        "id": "SlOS2XY97Jhg"
      },
      "source": [
        "### 잡다"
      ]
    },
    {
      "cell_type": "code",
      "execution_count": null,
      "metadata": {
        "colab": {
          "base_uri": "https://localhost:8080/"
        },
        "id": "x14aj1Skh8iv",
        "outputId": "0991513e-f417-4864-e53c-94a08b20e121"
      },
      "outputs": [],
      "source": [
        "!pip install langchain_community langchain_openai\n",
        "!pip install pymupdf\n",
        "!pip install pandas"
      ]
    },
    {
      "cell_type": "code",
      "execution_count": null,
      "metadata": {},
      "outputs": [],
      "source": [
        "!pip install langchain_chroma"
      ]
    },
    {
      "cell_type": "code",
      "execution_count": 22,
      "metadata": {},
      "outputs": [
        {
          "name": "stdout",
          "output_type": "stream",
          "text": [
            "Collecting lark\n",
            "  Downloading lark-1.1.9-py3-none-any.whl.metadata (1.9 kB)\n",
            "Downloading lark-1.1.9-py3-none-any.whl (111 kB)\n",
            "   ---------------------------------------- 0.0/111.7 kB ? eta -:--:--\n",
            "   ----------- ---------------------------- 30.7/111.7 kB 1.4 MB/s eta 0:00:01\n",
            "   ------------------------------------ --- 102.4/111.7 kB 1.5 MB/s eta 0:00:01\n",
            "   ---------------------------------------- 111.7/111.7 kB 1.3 MB/s eta 0:00:00\n",
            "Installing collected packages: lark\n",
            "Successfully installed lark-1.1.9\n"
          ]
        }
      ],
      "source": [
        "!pip install lark"
      ]
    },
    {
      "cell_type": "code",
      "execution_count": 14,
      "metadata": {
        "id": "EXn8QOCe2yVF"
      },
      "outputs": [],
      "source": [
        "import os\n",
        "os.environ['OPEN_API_KEY'] = 'sk-proj-dhAlzDfgDr0iXfpSY0FFT3BlbkFJEfXrDcih67saFa4qCMzd'"
      ]
    },
    {
      "cell_type": "code",
      "execution_count": 6,
      "metadata": {
        "id": "6h4ZsvI0nAK7"
      },
      "outputs": [],
      "source": [
        "from langchain_community.document_loaders import PDFPlumberLoader\n",
        "from langchain_community.vectorstores import FAISS\n",
        "from langchain_core.output_parsers import StrOutputParser\n",
        "from langchain_core.prompts import PromptTemplate\n",
        "from langchain_openai import ChatOpenAI, OpenAIEmbeddings\n",
        "from langchain_community.chat_message_histories import ChatMessageHistory\n",
        "from langchain_core.runnables.history import RunnableWithMessageHistory\n",
        "from langchain_openai import ChatOpenAI\n",
        "from langchain_core.output_parsers import StrOutputParser\n",
        "from operator import itemgetter"
      ]
    },
    {
      "cell_type": "markdown",
      "metadata": {
        "id": "c82acMMp7O1f"
      },
      "source": [
        "## 팀 정보 전처리"
      ]
    },
    {
      "cell_type": "code",
      "execution_count": 163,
      "metadata": {
        "colab": {
          "base_uri": "https://localhost:8080/",
          "height": 310
        },
        "id": "igxohZBNzhq9",
        "outputId": "307f70cf-602b-4af6-8fdf-49c496d1f2ca"
      },
      "outputs": [
        {
          "data": {
            "text/html": [
              "<div>\n",
              "<style scoped>\n",
              "    .dataframe tbody tr th:only-of-type {\n",
              "        vertical-align: middle;\n",
              "    }\n",
              "\n",
              "    .dataframe tbody tr th {\n",
              "        vertical-align: top;\n",
              "    }\n",
              "\n",
              "    .dataframe thead th {\n",
              "        text-align: right;\n",
              "    }\n",
              "</style>\n",
              "<table border=\"1\" class=\"dataframe\">\n",
              "  <thead>\n",
              "    <tr style=\"text-align: right;\">\n",
              "      <th></th>\n",
              "      <th>팀 코드</th>\n",
              "      <th>주제명</th>\n",
              "      <th>해양 관련 분야 선택</th>\n",
              "      <th>분야</th>\n",
              "      <th>팀원1 학번</th>\n",
              "      <th>팀원1 이름</th>\n",
              "      <th>팀원2 학번</th>\n",
              "      <th>팀원2 이름</th>\n",
              "      <th>팀원3 학번</th>\n",
              "      <th>팀원3 이름</th>\n",
              "      <th>기타 과목</th>\n",
              "      <th>물리학</th>\n",
              "      <th>화학</th>\n",
              "      <th>생명과학</th>\n",
              "      <th>지구과학</th>\n",
              "    </tr>\n",
              "  </thead>\n",
              "  <tbody>\n",
              "    <tr>\n",
              "      <th>0</th>\n",
              "      <td>A01</td>\n",
              "      <td>아두이노와 수위조절센서를 이용한 안전 부표 제작</td>\n",
              "      <td>해양 문화와 관광 진흥</td>\n",
              "      <td>A</td>\n",
              "      <td>1418</td>\n",
              "      <td>임성훈</td>\n",
              "      <td>1406.0</td>\n",
              "      <td>이서경</td>\n",
              "      <td>NaN</td>\n",
              "      <td>NaN</td>\n",
              "      <td>NaN</td>\n",
              "      <td>v</td>\n",
              "      <td>NaN</td>\n",
              "      <td>NaN</td>\n",
              "      <td>v</td>\n",
              "    </tr>\n",
              "    <tr>\n",
              "      <th>1</th>\n",
              "      <td>A02</td>\n",
              "      <td>거리와 물때, 조수간만의 차, 해양 오염 정도를 고려한 갯벌 추천</td>\n",
              "      <td>해양 문화와 관광 진흥</td>\n",
              "      <td>A</td>\n",
              "      <td>2304</td>\n",
              "      <td>이지원</td>\n",
              "      <td>2308.0</td>\n",
              "      <td>권민찬</td>\n",
              "      <td>NaN</td>\n",
              "      <td>NaN</td>\n",
              "      <td>NaN</td>\n",
              "      <td>NaN</td>\n",
              "      <td>NaN</td>\n",
              "      <td>V</td>\n",
              "      <td>V</td>\n",
              "    </tr>\n",
              "    <tr>\n",
              "      <th>2</th>\n",
              "      <td>A03</td>\n",
              "      <td>ACO algorithm을 이용해 2030 엑스포를 위한 ​해상 도시 계획의 교통문...</td>\n",
              "      <td>해양 문화와 관광 진흥</td>\n",
              "      <td>A</td>\n",
              "      <td>2311</td>\n",
              "      <td>김민수</td>\n",
              "      <td>2312.0</td>\n",
              "      <td>김채준</td>\n",
              "      <td>NaN</td>\n",
              "      <td>NaN</td>\n",
              "      <td>NaN</td>\n",
              "      <td>NaN</td>\n",
              "      <td>NaN</td>\n",
              "      <td>NaN</td>\n",
              "      <td>NaN</td>\n",
              "    </tr>\n",
              "    <tr>\n",
              "      <th>3</th>\n",
              "      <td>A04</td>\n",
              "      <td>기후위기와 지역별 해적의 상관관계</td>\n",
              "      <td>해양 문화와 관광 진흥</td>\n",
              "      <td>A</td>\n",
              "      <td>2313</td>\n",
              "      <td>도영운</td>\n",
              "      <td>2314.0</td>\n",
              "      <td>신승창</td>\n",
              "      <td>NaN</td>\n",
              "      <td>NaN</td>\n",
              "      <td>NaN</td>\n",
              "      <td>NaN</td>\n",
              "      <td>NaN</td>\n",
              "      <td>NaN</td>\n",
              "      <td>NaN</td>\n",
              "    </tr>\n",
              "    <tr>\n",
              "      <th>4</th>\n",
              "      <td>A05</td>\n",
              "      <td>인공지능아~ 해운대 까페에서 먹을 음료 알려줘</td>\n",
              "      <td>해양 문화와 관광 진흥</td>\n",
              "      <td>A</td>\n",
              "      <td>2318</td>\n",
              "      <td>정민영</td>\n",
              "      <td>2319.0</td>\n",
              "      <td>정보권</td>\n",
              "      <td>NaN</td>\n",
              "      <td>NaN</td>\n",
              "      <td>V(관광 서비스)</td>\n",
              "      <td>NaN</td>\n",
              "      <td>NaN</td>\n",
              "      <td>NaN</td>\n",
              "      <td>NaN</td>\n",
              "    </tr>\n",
              "  </tbody>\n",
              "</table>\n",
              "</div>"
            ],
            "text/plain": [
              "  팀 코드                                                주제명   해양 관련 분야 선택 분야  \\\n",
              "0  A01                         아두이노와 수위조절센서를 이용한 안전 부표 제작  해양 문화와 관광 진흥  A   \n",
              "1  A02               거리와 물때, 조수간만의 차, 해양 오염 정도를 고려한 갯벌 추천  해양 문화와 관광 진흥  A   \n",
              "2  A03  ACO algorithm을 이용해 2030 엑스포를 위한 ​해상 도시 계획의 교통문...  해양 문화와 관광 진흥  A   \n",
              "3  A04                                 기후위기와 지역별 해적의 상관관계  해양 문화와 관광 진흥  A   \n",
              "4  A05                          인공지능아~ 해운대 까페에서 먹을 음료 알려줘  해양 문화와 관광 진흥  A   \n",
              "\n",
              "   팀원1 학번 팀원1 이름  팀원2 학번 팀원2 이름  팀원3 학번 팀원3 이름      기타 과목  물리학   화학 생명과학 지구과학  \n",
              "0    1418    임성훈  1406.0    이서경     NaN    NaN        NaN    v  NaN  NaN    v  \n",
              "1    2304    이지원  2308.0    권민찬     NaN    NaN        NaN  NaN  NaN    V    V  \n",
              "2    2311    김민수  2312.0    김채준     NaN    NaN        NaN  NaN  NaN  NaN  NaN  \n",
              "3    2313    도영운  2314.0    신승창     NaN    NaN        NaN  NaN  NaN  NaN  NaN  \n",
              "4    2318    정민영  2319.0    정보권     NaN    NaN  V(관광 서비스)  NaN  NaN  NaN  NaN  "
            ]
          },
          "execution_count": 163,
          "metadata": {},
          "output_type": "execute_result"
        }
      ],
      "source": [
        "import pandas as pd\n",
        "\n",
        "team_data = '23ocean.csv'\n",
        "\n",
        "df = pd.read_csv(team_data)\n",
        "df.head()"
      ]
    },
    {
      "cell_type": "code",
      "execution_count": 164,
      "metadata": {
        "id": "hYOmfVmC34dw"
      },
      "outputs": [],
      "source": [
        "def get_student_number(student_number):\n",
        "  try:\n",
        "    return str(int(student_number))\n",
        "  except:\n",
        "    return '0000'"
      ]
    },
    {
      "cell_type": "code",
      "execution_count": 165,
      "metadata": {
        "id": "IpzBQjr20uEg"
      },
      "outputs": [],
      "source": [
        "properties = ['팀 코드', '주제명', '팀원1 학번', '팀원1 이름', '팀원2 학번', '팀원2 이름']\n",
        "\n",
        "def set_metadata(team_info, document):\n",
        "  document.metadata = {}\n",
        "\n",
        "  document.metadata['Team code'] = team_info['팀 코드']\n",
        "  document.metadata['Title'] = team_info['주제명']\n",
        "\n",
        "  document.metadata['Teammate #1 name'] = team_info['팀원1 이름']\n",
        "  document.metadata['Teammate #1 number'] = get_student_number(team_info['팀원1 학번'])\n",
        "  document.metadata['Teammate #2 name'] = team_info['팀원2 이름']\n",
        "  document.metadata['Teammate #2 number'] = get_student_number(team_info['팀원2 학번'])\n",
        "\n",
        "  return document"
      ]
    },
    {
      "cell_type": "code",
      "execution_count": null,
      "metadata": {
        "colab": {
          "base_uri": "https://localhost:8080/"
        },
        "collapsed": true,
        "id": "ErwtmOC7nCiW",
        "outputId": "cb4593c8-f24d-4c3b-82b5-ee3354cad675"
      },
      "outputs": [],
      "source": [
        "# 단계 1: 문서 로드(Load Documents)\n",
        "# 단계 2: 문서 분할(Split Documents) -> 스킵 (사유: 포스터 섞이더라)\n",
        "\n",
        "import os\n",
        "import tqdm\n",
        "from langchain_community.document_loaders import PyMuPDFLoader\n",
        "\n",
        "import re\t# 정규식 라이브러리\n",
        "p = re.compile('\\(([^)]+)') # 괄호 안에 있는 팀코드 추출\n",
        "\n",
        "PDF_DIR = 'OneDrive_2024-07-26/포스터 제출/'\n",
        "file_list = os.listdir(PDF_DIR)\n",
        "split_documents = []\n",
        "\n",
        "for f in tqdm.tqdm(file_list):\n",
        "  loader = PyMuPDFLoader(PDF_DIR + f)\n",
        "  document = loader.load()[0]\n",
        "\n",
        "  team_code = p.findall(f)[0]\n",
        "\n",
        "  result = df.loc[df['팀 코드'] == team_code]\n",
        "  \n",
        "  try:\n",
        "    new_document = set_metadata(result.iloc[0], document)\n",
        "    split_documents.append(new_document)\n",
        "  except:\n",
        "    continue\n",
        "    #split_documents.append(new_document)"
      ]
    },
    {
      "cell_type": "code",
      "execution_count": 167,
      "metadata": {
        "colab": {
          "base_uri": "https://localhost:8080/"
        },
        "id": "bf3i1PhoqUIy",
        "outputId": "64a35296-99df-4185-b9d5-e0b0fdc09c3d"
      },
      "outputs": [
        {
          "data": {
            "text/plain": [
              "92"
            ]
          },
          "execution_count": 167,
          "metadata": {},
          "output_type": "execute_result"
        }
      ],
      "source": [
        "len(split_documents)         "
      ]
    },
    {
      "cell_type": "markdown",
      "metadata": {},
      "source": [
        "## 검색기들"
      ]
    },
    {
      "cell_type": "markdown",
      "metadata": {
        "id": "wXqCmOU37Bby"
      },
      "source": [
        "### 검색기 (Ensemble)\n",
        "\n"
      ]
    },
    {
      "cell_type": "code",
      "execution_count": 8,
      "metadata": {
        "id": "4vaS_d_77T1I"
      },
      "outputs": [],
      "source": [
        "from langchain.retrievers import BM25Retriever, EnsembleRetriever\n",
        "from langchain_community.vectorstores import FAISS\n",
        "from langchain_openai import OpenAIEmbeddings\n",
        "\n",
        "bm25_retriever = BM25Retriever.from_documents(\n",
        "    # doc_list_1의 텍스트와 메타데이터를 사용하여 BM25Retriever를 초기화합니다.\n",
        "    split_documents\n",
        ")\n",
        "bm25_retriever.k = 2  # BM25Retriever의 검색 결과 개수를 1로 설정합니다.\n",
        "\n",
        "embedding = OpenAIEmbeddings(openai_api_key='sk-proj-dhAlzDfgDr0iXfpSY0FFT3BlbkFJEfXrDcih67saFa4qCMzd')  # OpenAI 임베딩을 사용합니다.\n",
        "faiss_vectorstore = FAISS.from_documents(\n",
        "    # doc_list_2의 텍스트와 임베딩, 메타데이터를 사용하여 FAISS 벡터 저장소를 초기화합니다.\n",
        "    split_documents,\n",
        "    embedding\n",
        ")\n",
        "# FAISS 벡터 저장소를 사용하여 retriever를 생성하고, 검색 결과 개수를 1로 설정합니다.\n",
        "faiss_retriever = faiss_vectorstore.as_retriever(search_kwargs={\"k\": 2})"
      ]
    },
    {
      "cell_type": "code",
      "execution_count": 9,
      "metadata": {
        "id": "xXe0BX5N9rbz"
      },
      "outputs": [],
      "source": [
        "# 앙상블 retriever를 초기화합니다.\n",
        "ensemble_retriever = EnsembleRetriever(\n",
        "    # BM25Retriever와 FAISS retriever를 사용하여 EnsembleRetriever를 초기화하고, 각 retriever의 가중치를 0.6:0.4로 설정합니다.\n",
        "    retrievers=[bm25_retriever, faiss_retriever],\n",
        "    weights=[.7, .3],\n",
        "    search_type=\"mmr\",\n",
        ")"
      ]
    },
    {
      "cell_type": "markdown",
      "metadata": {
        "id": "UJRnnBwZ1f_q"
      },
      "source": [
        "\n",
        "### 검색기 (Ensemble : Self Query + Dense)"
      ]
    },
    {
      "cell_type": "code",
      "execution_count": 168,
      "metadata": {},
      "outputs": [],
      "source": [
        "from langchain_chroma import Chroma\n",
        "from langchain_core.documents import Document\n",
        "from langchain_openai import OpenAIEmbeddings"
      ]
    },
    {
      "cell_type": "code",
      "execution_count": 212,
      "metadata": {},
      "outputs": [],
      "source": [
        "vectorstore = Chroma.from_documents(\n",
        "    documents=split_documents, \n",
        "    embedding=OpenAIEmbeddings(openai_api_key='sk-proj-dhAlzDfgDr0iXfpSY0FFT3BlbkFJEfXrDcih67saFa4qCMzd'),\n",
        "    persist_directory='db/chroma_2023_pdfs'\n",
        ")"
      ]
    },
    {
      "cell_type": "code",
      "execution_count": 211,
      "metadata": {},
      "outputs": [
        {
          "name": "stdout",
          "output_type": "stream",
          "text": [
            "<class 'langchain_chroma.vectorstores.Chroma'>\n"
          ]
        }
      ],
      "source": [
        "print(type(vectorstore))"
      ]
    },
    {
      "cell_type": "code",
      "execution_count": 171,
      "metadata": {
        "id": "7Xc1_CR_1nmK"
      },
      "outputs": [],
      "source": [
        "from langchain.chains.query_constructor.base import AttributeInfo\n",
        "from langchain.retrievers.self_query.base import SelfQueryRetriever\n",
        "from langchain_openai import ChatOpenAI\n",
        "\n",
        "metadata_field_info = [\n",
        "    AttributeInfo(\n",
        "        name=\"Team code\",\n",
        "        description=\"Unique code that the team has. alphabetical uppercase + double digit combination.\",\n",
        "        type=\"string\",\n",
        "    ),\n",
        "    AttributeInfo(\n",
        "        name=\"Title\",\n",
        "        description=\"the topic that the team studied/made\",\n",
        "        type=\"string\",\n",
        "    ),\n",
        "    AttributeInfo(\n",
        "        name=\"Teammate #1 name\",\n",
        "        description=\"A team member's name. name is two or three letters of Hangul.\",\n",
        "        type=\"string\"\n",
        "    ),\n",
        "\n",
        "    AttributeInfo(\n",
        "        name=\"Teammate #1 number\",\n",
        "        description=\"A team member's student number. The student number is four digits.\",\n",
        "        type=\"string\"\n",
        "    ),\n",
        "    AttributeInfo(\n",
        "        name=\"Teammate #2 name\",\n",
        "        description=\"A team member's name. name is two or three letters of Hangul.\",\n",
        "        type=\"string\"\n",
        "    ),\n",
        "\n",
        "    AttributeInfo(\n",
        "        name=\"Teammate #2 number\",\n",
        "        description=\"A team member's student number. The student number is four digits.\",\n",
        "        type=\"string\"\n",
        "    )\n",
        "]"
      ]
    },
    {
      "cell_type": "code",
      "execution_count": 186,
      "metadata": {},
      "outputs": [],
      "source": [
        "examples = [\n",
        "    (\n",
        "        \"A23 팀?\",\n",
        "        {\n",
        "            \"query\": \"작품 설명서\",\n",
        "            \"filter\": 'eq(\"Team code\", \"A23\")',\n",
        "        },\n",
        "    ),\n",
        "    (\n",
        "        \"이동윤은 뭐했어?\",\n",
        "        {\n",
        "            \"query\": \"작품 설명서\",\n",
        "            \"filter\": 'or(eq(\"Teammate #1 name\", \"이동윤\"), eq(\"Teammate #2 name\", \"이동윤\"))',\n",
        "        },\n",
        "    ),\n",
        "]"
      ]
    },
    {
      "cell_type": "code",
      "execution_count": 187,
      "metadata": {},
      "outputs": [],
      "source": [
        "from langchain.chains.query_constructor.base import (\n",
        "    StructuredQueryOutputParser,\n",
        "    get_query_constructor_prompt,\n",
        ")\n",
        "\n",
        "# 문서 내용 설명과 메타데이터 필드 정보를 사용하여 쿼리 생성기 프롬프트를 가져옵니다.\n",
        "prompt = get_query_constructor_prompt(\n",
        "    'Ocean ICT 대회에 참가한 팀의 작품 설명서.',\n",
        "    metadata_field_info,\n",
        "    examples=examples\n",
        ")\n",
        "\n",
        "# 구성 요소에서 구조화된 쿼리 출력 파서를 생성합니다.\n",
        "output_parser = StructuredQueryOutputParser.from_components()\n",
        "\n",
        "# 프롬프트, 언어 모델, 출력 파서를 연결하여 쿼리 생성기를 만듭니다.\n",
        "new_query_constructor = prompt | llm | output_parser"
      ]
    },
    {
      "cell_type": "code",
      "execution_count": null,
      "metadata": {},
      "outputs": [],
      "source": [
        "print(prompt.format(query=\"d\"))"
      ]
    },
    {
      "cell_type": "code",
      "execution_count": 189,
      "metadata": {},
      "outputs": [
        {
          "data": {
            "text/plain": [
              "StructuredQuery(query='작품 설명서', filter=Operation(operator=<Operator.OR: 'or'>, arguments=[Comparison(comparator=<Comparator.EQ: 'eq'>, attribute='Teammate #1 name', value='이동윤'), Comparison(comparator=<Comparator.EQ: 'eq'>, attribute='Teammate #2 name', value='이동윤')]), limit=None)"
            ]
          },
          "execution_count": 189,
          "metadata": {},
          "output_type": "execute_result"
        }
      ],
      "source": [
        "generated_query = new_query_constructor.invoke(\n",
        "    {\n",
        "        # 쿼리 생성기를 호출하여 주어진 질문에 대한 쿼리를 생성합니다.\n",
        "        \"query\": \"이동윤 뭐했냐\"\n",
        "    }\n",
        ")\n",
        "\n",
        "generated_query"
      ]
    },
    {
      "cell_type": "code",
      "execution_count": 190,
      "metadata": {},
      "outputs": [
        {
          "data": {
            "text/plain": [
              "('작품 설명서',\n",
              " {'filter': {'$or': [{'Teammate #1 name': {'$eq': '이동윤'}},\n",
              "    {'Teammate #2 name': {'$eq': '이동윤'}}]}})"
            ]
          },
          "execution_count": 190,
          "metadata": {},
          "output_type": "execute_result"
        }
      ],
      "source": [
        "translator = ChromaTranslator()\n",
        "translator.visit_structured_query(generated_query)"
      ]
    },
    {
      "cell_type": "code",
      "execution_count": 191,
      "metadata": {
        "colab": {
          "base_uri": "https://localhost:8080/",
          "height": 530
        },
        "id": "VKjqm6b_2h7p",
        "outputId": "44ab9187-0f9c-45e3-d1ad-5328d2905d99"
      },
      "outputs": [],
      "source": [
        "from langchain.retrievers.self_query.chroma import ChromaTranslator\n",
        "\n",
        "llm = ChatOpenAI(model_name=\"gpt-4o\", temperature=0, openai_api_key='sk-proj-dhAlzDfgDr0iXfpSY0FFT3BlbkFJEfXrDcih67saFa4qCMzd')\n",
        "\n",
        "self_query_retriever = SelfQueryRetriever(\n",
        "    query_constructor=new_query_constructor,\n",
        "    vectorstore=vectorstore,\n",
        "    structured_query_translator=translator\n",
        ")"
      ]
    },
    {
      "cell_type": "code",
      "execution_count": 196,
      "metadata": {},
      "outputs": [
        {
          "data": {
            "text/plain": [
              "[Document(metadata={'Team code': 'B03', 'Teammate #1 name': '김환', 'Teammate #1 number': '1105', 'Teammate #2 name': '임건택', 'Teammate #2 number': '1117', 'Title': '후쿠시마 방사능 방류량 예측 모델 제작'}, page_content='Busan science high school\\n2023 Ocean ICT Festival\\n2023 BOIF\\nYoutube 영상 QR\\nB \\n03\\nQR 코드 영역\\nQR 삽입 후 \\n테두리 삭제\\n후쿠시마 방사능 방류량 예측 모델 제작\\nGithub\\nhttps://github.com/hwan809/ocean-ict\\n저희의 자세한 탐구 과정을 확인하실 수 있어요!\\n기상청상위호환\\n1105 김환 1118 임건택\\n(index는 0번부터!)\\n최근 일본 정부의 후쿠시마 원전 ‘오염수 방류’ \\n계획 발표로 인해 여러정치적/과학적 논란이 생\\n겨나고 있다. 따라서 우리는 오염수가 방류되었\\n을 때의방사능 농도 변화를 정량적으로 예측하\\n고이에 따른 부산 앞바다의 방사능 피해를알아\\n보고자 프로젝트를 시작하게 되었다.\\n* [1] Gradient Boosting Model. 성능이 좋고 해석이 쉬운 앙상블 모델이다.\\n* [2] Ocean Surface Current Analysis Real-Time\\n* [3] 베크렐. 방사능의 강도를 나타내는 단위로\\n단위 시간(1초간) 원자핵이 붕괴하는 수를 나타낸다.\\n* [4] 2021년국내해역평균 삼중수소 농도.\\n초기 개발 당시, 우리는 과거 2011년 ‘후쿠시마 \\n원전 사고‘ 의 농도 예측을 시도했다. 이는 당시\\n의 dataset을 사용하는 머신러닝 회귀 문제로 \\n해결할 수 있었다.\\n*Fig 1) Pre-processing이 끝난 dataset. 왼쪽부터 \\n사건 발생부터 경과한 초(s), 거리(km), 농도(ppm), 위도, 경도이다.\\n<Japan Radiation Open Data> 에서 제공되\\n는 원전 사고 전후 약 한 달 간의 방사능 농도 측\\n정 데이터를 GBM[1] 에 적합시키고, 각 변수의 \\n중요도를 계산해 보았다.\\n*Fig 2) 모델의 train/test dataset에서의 정확도,\\nfeature(왼쪽부터 초(s), 위도, 경도) 의 중요도이다.\\n사건부터 경과한 시간이 가장 농도에 주요한 영\\n향으로 작용하고, 위/경도는 비슷한 값을 가지는 \\n것을 확인했다. 따라서 추후 동적인 모델에서는 \\n시간 변화에 따라 학습시키기로 결정했다.\\n바다에 방류된 방사능 오염수는 농도에 따라 확\\n산하기 마련이다. Fick’s Law에 따라단위시간\\n(∆t) 당 확산되는 입자의 양은그 지점에서의 농\\n도 기울기(𝜕𝜕𝑐𝑐/𝜕𝜕𝑥𝑥) 와 비례한다. 이를 이용해\\n특정 격자에서부터 시작된 오염 물질의 농도가 \\n점차 바다로 확산되는 시뮬레이션을 진행했다.\\n*Fig 3) 중심 격자에 농도를 지정하고“확산 계수”\\nk = 0.02 일 때각각 tick=50, 100 시점의 결과.\\n시뮬레이션 하려는 범위의 영역 전체를 2차원 \\nmatrix로 생각할 수 있었다. 각 step마다 모든 \\n칸에서 인접한 상하좌우 4칸의 농도 기울기를 \\n계산해 농도를 이동시키는 방식으로 코딩했다.\\n*Fig 4) 모델 연산 함수 중 확산 코드.\\n= 상하좌우\\n격자 농도의 \\n평균과특정 \\n격자의 농도의 차\\n= 확산 계수만큼 농도 변화\\n바다 내부에서 확산되므로 해류 역시 고려해 주\\n어야 한다고 생각했다. 뗏목처럼 바다 위를 떠다\\n니는 대상이 아니기에 <OSCAR[2] dataset> \\n을 이용하여 표층 내부 해류 데이터를 얻었다.\\n과정 중 격자의 크기와 주어진 해류 농도의 해상\\n도가 달라 주어진dataset을 “up-scaling” 해 \\n격자 크기와 동일하게 만들어 줄 수 있는 \\nbilinear interpolation 알고리즘을 사용했다.\\n*Fig 5) OSCAR dataset의velocity size를 \\ncolorbar 속성으로 지정해 matplotlib basemap 위에 그린 지도.\\n*Fig 6) bilinear interpolation 알고리즘의 원리와\\n해류 데이터에 활용할 수 있게 구현한 함수.\\n각 격자에서의 해류 속도를 받아와서 확산과 같\\n은 방식으로 농도를 이동시키되,\\n확산과 동시에 일어나서 예측 오류가\\n발생하지 않도록 병렬적으로 처리할 것이다.\\n방사능 물질은 반감기라는 특징을 가진다. 1차 \\n반응식을 이용하면 방사능 입자가 t초 후 존재할 \\n확률을 1 −𝑒𝑒−𝑘𝑘𝑘𝑘(𝑘𝑘= 𝑙𝑙𝑙𝑙𝑙/𝑡𝑡1/2) 로 구할 수 있다. \\n따라서 시뮬레이션에서 시간이 ∆𝑡𝑡만큼 지날 때 \\n마다 각 격자의 농도를 언급한 확률만큼 줄여 주\\n어야 한다.\\n*Fig 7) 특정 격자에서 단위 시간 당 줄어들어야 하는\\n방사능 물질의 농도를 반감기를 활용해 계산하는 코드.\\n* land-sea mask dataset을 활용, 대륙 위의 \\n격자로 확산되지 않도록 범위에서 배제.\\n* 각 tick마다 변화하는 격자 상대량의 전체 총\\n량이 변하지 않도록 정규화.\\n위 기능과 #02에서 만든 3가지 함수를 모두 적\\n용해전체 모델 class을 제작했다.\\n후쿠시마 방사능 오염수 방류로 인한 예측 모델\\n을 제작해, 부산에 가해지는 방사능 변화 정도, \\n그 중에서 삼중수소 농도 변화에 대해 예측했다.\\n확산 모델로 계산된 삼중수소 농도 변화는\\n미미했으나, 다른 핵종에 대한 시뮬레이션이나 \\n그에 따른 생태계 변화에 대한 후속 연구가 \\n부족하므로 위험성을 판단하는 것은 무리가 \\n있다고 생각한다.\\n추가로 농도 격자가 아닌 방사능 입자 각각을 이\\n동시켜 정밀한 시뮬레이션을 진행하고 싶다.\\n*Fig 9) 해운대 앞 바다 임의의 \\n위/경도의삼중수소 농도 변화를 \\n그린 그래프. (약 5년, log scale) \\n*Fig 10) 한국, 일본 중심으로\\n삼중수소의 농도 변화를 그린\\nHeatmap. (t = 1y)\\n가장 널리 언급되고 있는 핵종인 삼중수소에 대\\n해 우선적으로 시뮬레이션 했다.\\n<Fig 9> 로부터 부산에는 약 280일 이후에 \\n오염수가 유입됨을 알 수 있었다. 또한 약 3년 후 \\n부터는 해류에 의한 농도의 이동만 있을 뿐, 초기 \\n농도의 10−3배 주변에서 변함을 확인했다.\\n후쿠시마 오염수의 삼중수소 농도가 평균 \\n620,000 Bq[3]/L 이므로, 부산 앞바다의 삼중\\n수소 농도 변화가 5년까지 약 0.00029 Bq/L \\n정도에서 머무를 것임을 계산할 수 있다. 이는 현\\n재 국내 해역의 삼중수소 농도 0.172 Bq/L[4]\\n에 비교해 미미한 변화임을 알 수 있다. \\n<Fig 10> 로부터 초기 예상과 다르게 거리가\\n가까운 대한민국에 먼저 닿지 않고, \\n해류의 영향으로 동쪽으로 확산이 먼저 일어나\\n는 모습을 확인할 수 있었다.\\n')]"
            ]
          },
          "execution_count": 196,
          "metadata": {},
          "output_type": "execute_result"
        }
      ],
      "source": [
        "# 검색기에 쿼리를 날려 검색된 chunk 결과를 확인합니다.\n",
        "self_query_retriever.invoke('B03 뭐함?')"
      ]
    },
    {
      "cell_type": "code",
      "execution_count": 201,
      "metadata": {},
      "outputs": [],
      "source": [
        "from langchain.retrievers import EnsembleRetriever\n",
        "\n",
        "# 앙상블 retriever를 초기화합니다.\n",
        "ensemble_retriever = EnsembleRetriever(\n",
        "    retrievers=[self_query_retriever, chroma_retriever],\n",
        "    weights=[0.5, 0.5],\n",
        "    search_type=\"mmr\",\n",
        ")"
      ]
    },
    {
      "cell_type": "markdown",
      "metadata": {
        "id": "uWrr3jHk7GrO"
      },
      "source": [
        "## 프롬프트 + LLM"
      ]
    },
    {
      "cell_type": "code",
      "execution_count": 202,
      "metadata": {
        "id": "LfejZCCQndQA"
      },
      "outputs": [],
      "source": [
        "# 단계 6: 프롬프트 생성(Create Prompt)\n",
        "# 프롬프트를 생성합니다.\n",
        "prompt = PromptTemplate.from_template(\n",
        "    \"\"\"당신은 부산과학고등학교의 행사 \"Ocean ICT\"의 도우미 챗봇인 \"한바다\" 입니다.\n",
        "검색된 정보를 사용하여 질문에 답합니다.\n",
        "팀 코드는 대문자와 숫자 두 자리의 조합입니다.\n",
        "답을 모른다면 그냥 너의 정보와 함께 너는 Ocean ICT에 대해서만 답변할 수 있다고 말하면 됩니다.\n",
        "답을 안다면 있는 정보를 사용해 최대한 자세하게 답변할 수 있도록 합니다. 여러 줄에 걸쳐서 답변하세요.\n",
        "한국어로 친절하고, 친근하게 답하세요.\n",
        "\n",
        "#질문:\n",
        "{question}\n",
        "#정보:\n",
        "{context}\n",
        "\n",
        "#답변:\"\"\"\n",
        ")\n"
      ]
    },
    {
      "cell_type": "code",
      "execution_count": 203,
      "metadata": {
        "id": "H0WTkUXVnfKs"
      },
      "outputs": [],
      "source": [
        "# 단계 7: 언어모델(LLM) 생성\n",
        "# 모델(LLM) 을 생성합니다.\n",
        "llm = ChatOpenAI(model_name=\"gpt-4o\", temperature=0.5, openai_api_key='sk-proj-dhAlzDfgDr0iXfpSY0FFT3BlbkFJEfXrDcih67saFa4qCMzd')"
      ]
    },
    {
      "cell_type": "code",
      "execution_count": 204,
      "metadata": {
        "id": "z3rx7cHrngdw"
      },
      "outputs": [],
      "source": [
        "from langchain_core.runnables import RunnableParallel, RunnablePassthrough\n",
        "\n",
        "# 단계 8: 체인(Chain) 생성\n",
        "chain = (\n",
        "    {\"context\": ensemble_retriever, \"question\": RunnablePassthrough()}\n",
        "    | prompt\n",
        "    | llm\n",
        "    | StrOutputParser()\n",
        ")"
      ]
    },
    {
      "cell_type": "markdown",
      "metadata": {},
      "source": [
        "## 시연"
      ]
    },
    {
      "cell_type": "code",
      "execution_count": null,
      "metadata": {},
      "outputs": [],
      "source": [
        "# 필요 library 설치\n",
        "!pip install SpeechRecognition\n",
        "!pip install librosa"
      ]
    },
    {
      "cell_type": "code",
      "execution_count": 208,
      "metadata": {
        "colab": {
          "base_uri": "https://localhost:8080/"
        },
        "id": "Qhv_HlQJnh90",
        "outputId": "a13b1f70-c89d-4fbe-baca-c11263c48b73"
      },
      "outputs": [
        {
          "name": "stdout",
          "output_type": "stream",
          "text": [
            "안녕하세요! 저는 부산과학고등학교의 행사 \"Ocean ICT\"의 도우미 챗봇, 한바다입니다. 환경 관련 프로젝트를 추천해달라고 하셨군요! 저희 행사에서 진행된 몇 가지 흥미로운 프로젝트를 소개해드릴게요.\n",
            "\n",
            "1. **플랑크톤 해상 이동 경로 시뮬레이션을 통한 지구 환경 보존 및 관리 계획 수립 (팀 코드: B06)**\n",
            "    - **주요 내용:** 이 프로젝트는 플랑크톤의 이동 경로를 시뮬레이션하여 지구 환경 보존 및 관리 계획을 수립하는 것을 목표로 합니다. 플랑크톤은 해양 생태계에서 중요한 역할을 하며, 이산화탄소를 흡수하고 산소를 방출하는 등 지구 대기 중 이산화탄소 수준 조절에 기여합니다. 이 프로젝트는 온도, 풍향, 해류 등을 고려하여 플랑크톤의 이동 방향을 찾고, 이를 통해 환경에 가해지는 영향을 조사합니다.\n",
            "    - **활용 방안:** 플랑크톤의 이동 경로를 활용하여 환경에 가해지는 영향을 조사하고, 이를 통해 지구 해양 환경 보존에 필요한 계획을 수립할 수 있습니다.\n",
            "\n",
            "2. **해양 생물자원 모니터링과 환경 보존 방향성 파악 (팀 코드: B27)**\n",
            "    - **주요 내용:** 이 프로젝트는 해양 생물자원의 분포와 해양 쓰레기의 분포를 조사하여 그 연관성을 파악하고, 해양 생물자원의 지속 가능한 사용을 위한 관리와 모니터링 시스템을 만드는 것을 목표로 합니다. 해양 쓰레기가 해양 생물자원에 미치는 영향을 분석하고, 이를 통해 환경 보존 방법을 고안합니다.\n",
            "    - **활용 방안:** 해양 쓰레기를 제대로 처리할 수 있는 시설을 만들고, 해양 생물자원을 보호하기 위한 다양한 방안을 모색할 수 있습니다.\n",
            "\n",
            "3. **해류 발전소의 효율이 가장 높은 설치지역 탐구 (팀 코드: C03)**\n",
            "    - **주요 내용:** 이 프로젝트는 해류 발전소의 효율이 가장 높은 설치 지역을 탐구하는 것을 목표로 합니다. 해류 발전은 신재생 에너지 중 하나로, 해류의 유속, 밀도, 점성 등의 물리적 특성을 고려하여 가장 적합한 설치 위치를 찾습니다.\n",
            "    - **활용 방안:** 해류 발전소의 설치 위치를 최적화하여 신재생 에너지의 효율을 높이고, 화석 연료 사용으로 인한 환경 문제를 해결할 수 있습니다.\n",
            "\n",
            "이 외에도 다양한 환경 관련 프로젝트가 진행되고 있으니, 관심 있는 주제를 선택하여 탐구해보시면 좋을 것 같습니다. 추가로 궁금한 사항이 있으시면 언제든지 질문해 주세요!\n"
          ]
        }
      ],
      "source": [
        "# 체인 실행(Run Chain)\n",
        "# 문서에 대한 질의를 입력하고, 답변을 출력합니다.\n",
        "question = \"환경 관련 프로젝트 추천해줘!\"\n",
        "response = chain.invoke(question)\n",
        "print(response)"
      ]
    }
  ],
  "metadata": {
    "colab": {
      "collapsed_sections": [
        "SlOS2XY97Jhg",
        "c82acMMp7O1f",
        "wXqCmOU37Bby",
        "JRz4W8_jATi0"
      ],
      "gpuType": "T4",
      "provenance": []
    },
    "kernelspec": {
      "display_name": "Python 3",
      "name": "python3"
    },
    "language_info": {
      "codemirror_mode": {
        "name": "ipython",
        "version": 3
      },
      "file_extension": ".py",
      "mimetype": "text/x-python",
      "name": "python",
      "nbconvert_exporter": "python",
      "pygments_lexer": "ipython3",
      "version": "3.10.14"
    }
  },
  "nbformat": 4,
  "nbformat_minor": 0
}
