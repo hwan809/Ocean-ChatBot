{
 "cells": [
  {
   "cell_type": "markdown",
   "metadata": {},
   "source": [
    "## 해결하려는 문제점\n",
    "**작년에 BO3 팀 주제 같은 주제로 연구한 팀 없어?**\n",
    "- 두 번 검색을 해야 해결 할 수 있는 문제\n",
    "- Multi-Hop Retriever을 활용"
   ]
  },
  {
   "cell_type": "markdown",
   "metadata": {},
   "source": [
    "### vectorstore 및 LLM"
   ]
  },
  {
   "cell_type": "code",
   "execution_count": 5,
   "metadata": {},
   "outputs": [],
   "source": [
    "import streamlit as st\n",
    "from langchain_openai import ChatOpenAI\n",
    "\n",
    "openai_api_key = st.secrets['OPENAI_API_KEY']\n",
    "llm = ChatOpenAI(model_name=\"gpt-4o\", temperature=0, openai_api_key=openai_api_key)"
   ]
  },
  {
   "cell_type": "code",
   "execution_count": 6,
   "metadata": {},
   "outputs": [],
   "source": [
    "from langchain_chroma import Chroma\n",
    "from langchain_core.documents import Document\n",
    "from langchain_openai import OpenAIEmbeddings"
   ]
  },
  {
   "cell_type": "code",
   "execution_count": 7,
   "metadata": {},
   "outputs": [],
   "source": [
    "vectorstore = Chroma(\n",
    "    persist_directory=\"db/chroma_2024_pdfs\",\n",
    "    embedding_function=OpenAIEmbeddings(openai_api_key=openai_api_key)\n",
    ")"
   ]
  },
  {
   "cell_type": "code",
   "execution_count": 8,
   "metadata": {},
   "outputs": [],
   "source": [
    "from langchain.chains.query_constructor.base import AttributeInfo\n",
    "from langchain.retrievers.self_query.base import SelfQueryRetriever\n",
    "metadata_field_info = [\n",
    "    AttributeInfo(\n",
    "        name=\"Team code\",\n",
    "        description=\"Unique code that the team has. alphabetical uppercase + double digit combination.\",\n",
    "        type=\"string\",\n",
    "    ),\n",
    "    AttributeInfo(\n",
    "        name=\"Title\",\n",
    "        description=\"the topic that the team studied/made\",\n",
    "        type=\"string\",\n",
    "    ),\n",
    "    AttributeInfo(\n",
    "        name=\"Teammate #1 name\",\n",
    "        description=\"A team member's name. name is two or three letters of Hangul.\",\n",
    "        type=\"string\"\n",
    "    ),\n",
    "    AttributeInfo(\n",
    "        name=\"Teammate #1 number\",\n",
    "        description=\"A team member's student number. The student number is four digits.\",\n",
    "        type=\"string\"\n",
    "    ),\n",
    "    AttributeInfo(\n",
    "        name=\"Teammate #2 name\",\n",
    "        description=\"A team member's name. name is two or three letters of Hangul.\",\n",
    "        type=\"string\"\n",
    "    ),\n",
    "    AttributeInfo(\n",
    "        name=\"Teammate #2 number\",\n",
    "        description=\"A team member's student number. The student number is four digits.\",\n",
    "        type=\"string\"\n",
    "    ),\n",
    "    AttributeInfo(\n",
    "        name=\"Teammate #3 name\",\n",
    "        description=\"A team member's name. name is two or three letters of Hangul.\",\n",
    "        type=\"string\"\n",
    "    ),\n",
    "    AttributeInfo(\n",
    "        name=\"Teammate #3 number\",\n",
    "        description=\"A team member's student number. The student number is four digits.\",\n",
    "        type=\"string\"\n",
    "    ),\n",
    "    AttributeInfo(\n",
    "        name=\"Physics\",\n",
    "        description=\"Whether Physics is used. Can be True or False\",\n",
    "        type=\"boolean\"\n",
    "    ),\n",
    "    AttributeInfo(\n",
    "        name=\"Chemistry\",\n",
    "        description=\"Whether Chemistry is used. Can be True or False\",\n",
    "        type=\"boolean\"\n",
    "    ),\n",
    "    AttributeInfo(\n",
    "        name=\"Biology\",\n",
    "        description=\"Whether Biology is used. Can be True or False\",\n",
    "        type=\"boolean\"\n",
    "    ),\n",
    "    AttributeInfo(\n",
    "        name=\"EarthScience\",\n",
    "        description=\"Whether Earth Science is used. Can be True or False\",\n",
    "        type=\"boolean\"\n",
    "    ),\n",
    "    AttributeInfo(\n",
    "        name=\"Youtube link\",\n",
    "        description=\"A youtube video link from the team. The vido can be played by clicking on the link.\",\n",
    "        type=\"string\"\n",
    "    )\n",
    "]"
   ]
  },
  {
   "cell_type": "code",
   "execution_count": 9,
   "metadata": {},
   "outputs": [],
   "source": [
    "examples = [\n",
    "    (\n",
    "        \"A23 팀?\",\n",
    "        {\n",
    "            \"query\": \"작품 설명서\",\n",
    "            \"filter\": 'eq(\"Team code\", \"A23\")',\n",
    "        },\n",
    "    ),\n",
    "    (\n",
    "        \"이동윤은 뭐했어?\",\n",
    "        {\n",
    "            \"query\": \"작품 설명서\",\n",
    "            \"filter\": 'or(eq(\"Teammate #1 name\", \"이동윤\"), eq(\"Teammate #2 name\", \"이동윤\"))',\n",
    "        },\n",
    "    ),\n",
    "    (\n",
    "        \"환경에 관한 주제로 연구한 팀을 알려줄래?\",\n",
    "        {\n",
    "            \"query\": \"환경에 관한 주제로 연구한 팀을 알려줄래?\",\n",
    "            \"filter\": \"NO_FILTER\",\n",
    "        }   \n",
    "    ),\n",
    "    (\n",
    "        \"팀 번호가 B로 시작하는 프로젝트의 주제는 어떤 것이 있어?\",\n",
    "        {\n",
    "            \"query\": \"팀 번호가 B로 시작하는 프로젝트의 주제는 어떤 것이 있어?\",\n",
    "            \"filter\": \"NO_FILTER\",\n",
    "        }\n",
    "    ),\n",
    "    (\n",
    "        \"머신러닝을 사용하지 않은 팀이 있을까?\",\n",
    "        {\n",
    "            \"query\": \"머신러닝을 사용하지 않은 팀이 있을까?\",\n",
    "            \"filter\": \"NO_FILTER\",\n",
    "        }\n",
    "    )\n",
    "]"
   ]
  },
  {
   "cell_type": "code",
   "execution_count": 10,
   "metadata": {},
   "outputs": [],
   "source": [
    "from langchain.chains.query_constructor.base import (\n",
    "    StructuredQueryOutputParser,\n",
    "    get_query_constructor_prompt,\n",
    ")\n",
    "\n",
    "prompt = get_query_constructor_prompt(\n",
    "    'Ocean ICT 대회에 참가한 팀의 작품 설명서.',\n",
    "    metadata_field_info,\n",
    "    examples=examples\n",
    ")\n",
    "\n",
    "output_parser = StructuredQueryOutputParser.from_components()\n",
    "new_query_constructor = prompt | llm | output_parser"
   ]
  },
  {
   "cell_type": "code",
   "execution_count": 11,
   "metadata": {},
   "outputs": [],
   "source": [
    "from langchain.retrievers.self_query.chroma import ChromaTranslator\n",
    "translator = ChromaTranslator()\n"
   ]
  },
  {
   "cell_type": "markdown",
   "metadata": {},
   "source": [
    "### Retriever"
   ]
  },
  {
   "cell_type": "code",
   "execution_count": 12,
   "metadata": {},
   "outputs": [],
   "source": [
    "self_query_retriever = SelfQueryRetriever(\n",
    "    query_constructor=new_query_constructor,\n",
    "    vectorstore=vectorstore,\n",
    "    structured_query_translator=translator\n",
    ")"
   ]
  },
  {
   "cell_type": "code",
   "execution_count": 13,
   "metadata": {},
   "outputs": [
    {
     "ename": "",
     "evalue": "",
     "output_type": "error",
     "traceback": [
      "\u001b[1;31mThe Kernel crashed while executing code in the current cell or a previous cell. \n",
      "\u001b[1;31mPlease review the code in the cell(s) to identify a possible cause of the failure. \n",
      "\u001b[1;31mClick <a href='https://aka.ms/vscodeJupyterKernelCrash'>here</a> for more info. \n",
      "\u001b[1;31mView Jupyter <a href='command:jupyter.viewOutput'>log</a> for further details."
     ]
    }
   ],
   "source": [
    "self_query_retriever.invoke('김환 팀?')"
   ]
  }
 ],
 "metadata": {
  "kernelspec": {
   "display_name": ".conda",
   "language": "python",
   "name": "python3"
  },
  "language_info": {
   "codemirror_mode": {
    "name": "ipython",
    "version": 3
   },
   "file_extension": ".py",
   "mimetype": "text/x-python",
   "name": "python",
   "nbconvert_exporter": "python",
   "pygments_lexer": "ipython3",
   "version": "3.10.14"
  }
 },
 "nbformat": 4,
 "nbformat_minor": 2
}
